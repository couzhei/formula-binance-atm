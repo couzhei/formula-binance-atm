{
 "cells": [
  {
   "cell_type": "code",
   "execution_count": 2,
   "id": "fbc8f740caa89d45",
   "metadata": {
    "ExecuteTime": {
     "end_time": "2024-12-28T07:49:58.138910Z",
     "start_time": "2024-12-28T07:49:58.132089Z"
    }
   },
   "outputs": [],
   "source": [
    "import pandas as pd\n",
    "def calculate_indicator_signals(df: pd.DataFrame, indicator_name, variables, detect_divergence=False):\n",
    "    signals = {\"indicator\": indicator_name, \"divergence_detected\": False, \"side\": None}\n",
    "\n",
    "    if indicator_name == \"MACD\":\n",
    "        fast_length = variables.get(\"fast_length\", 12)\n",
    "        slow_length = variables.get(\"slow_length\", 26)\n",
    "        signal_length = variables.get(\"signal_length\", 9)\n",
    "\n",
    "        df[\"EMA_fast\"] = df[\"Close\"].ewm(span=fast_length, adjust=False).mean()\n",
    "        df[\"EMA_slow\"] = df[\"Close\"].ewm(span=slow_length, adjust=False).mean()\n",
    "        df[\"MACD_line\"] = df[\"EMA_fast\"] - df[\"EMA_slow\"]\n",
    "        df[\"MACD_signal\"] = df[\"MACD_line\"].ewm(span=signal_length, adjust=False).mean()\n",
    "        df[\"MACD_hist\"] = df[\"MACD_line\"] - df[\"MACD_signal\"]\n",
    "        signals[\"last_value\"] = df[\"MACD_hist\"].iloc[-1]\n",
    "\n",
    "        if detect_divergence:\n",
    "            if df[\"MACD_hist\"].iloc[-1] > 0 and df[\"MACD_hist\"].iloc[-2] <= 0:\n",
    "                signals[\"divergence_detected\"] = True\n",
    "                signals[\"side\"] = \"BUY\"\n",
    "            elif df[\"MACD_hist\"].iloc[-1] < 0 and df[\"MACD_hist\"].iloc[-2] >= 0:\n",
    "                signals[\"divergence_detected\"] = True\n",
    "                signals[\"side\"] = \"SELL\"\n",
    "\n",
    "    elif indicator_name == \"RSI\":\n",
    "        length = variables.get(\"length\", 14)\n",
    "        delta = df[\"Close\"].diff()\n",
    "        gain = (delta.where(delta > 0, 0)).rolling(window=length).mean()\n",
    "        loss = (-delta.where(delta < 0, 0)).rolling(window=length).mean()\n",
    "        rs = gain / loss\n",
    "        df[\"RSI\"] = 100 - (100 / (1 + rs))\n",
    "        signals[\"last_value\"] = df[\"RSI\"].iloc[-1]\n",
    "\n",
    "        if detect_divergence:\n",
    "            if df[\"RSI\"].iloc[-1] < 30:\n",
    "                signals[\"divergence_detected\"] = True\n",
    "                signals[\"side\"] = \"BUY\"\n",
    "            elif df[\"RSI\"].iloc[-1] > 70:\n",
    "                signals[\"divergence_detected\"] = True\n",
    "                signals[\"side\"] = \"SELL\"\n",
    "\n",
    "    return df, signals"
   ]
  },
  {
   "cell_type": "code",
   "execution_count": 6,
   "id": "initial_id",
   "metadata": {
    "ExecuteTime": {
     "end_time": "2024-12-28T07:53:52.294926Z",
     "start_time": "2024-12-28T07:53:52.283986Z"
    },
    "collapsed": true
   },
   "outputs": [
    {
     "name": "stdout",
     "output_type": "stream",
     "text": [
      "MACD Signals: {'indicator': 'MACD', 'divergence_detected': False, 'side': None, 'last_value': np.float64(-6.722549545264675)}\n"
     ]
    }
   ],
   "source": [
    "\n",
    "# Assume df is a DataFrame with OHLC data:\n",
    "# columns: [\"Date\", \"Open\", \"High\", \"Low\", \"Close\", \"Volume\"]\n",
    "df = pd.read_csv(\"tests/Historical_data.csv\")\n",
    "\n",
    "# Cleaning and converting the 'Amount' column\n",
    "for label in [\"High\", \"Low\", \"Open\", \"Close\"]:\n",
    "    df[label] = df[label].str.replace('$', '')  # Remove dollar sign\n",
    "    df[label] = df[label].str.replace(',', '.')  # Replace comma with period\n",
    "    df[label] = df[label].astype(float)  # Convert to float\n",
    "\n",
    "# Example: Calculate MACD signals\n",
    "macd_vars = {\n",
    "    \"fast_length\": 12,\n",
    "    \"slow_length\": 26,\n",
    "    \"signal_length\": 9\n",
    "}\n",
    "df, macd_signals = calculate_indicator_signals(df, \"MACD\", macd_vars, detect_divergence=True)\n",
    "print(\"MACD Signals:\", macd_signals)\n",
    "\n"
   ]
  },
  {
   "cell_type": "code",
   "execution_count": 8,
   "id": "2de01bfbe499b045",
   "metadata": {
    "ExecuteTime": {
     "end_time": "2024-12-28T07:54:17.329356Z",
     "start_time": "2024-12-28T07:54:17.320206Z"
    }
   },
   "outputs": [
    {
     "name": "stdout",
     "output_type": "stream",
     "text": [
      "RSI Signals: {'indicator': 'RSI', 'divergence_detected': False, 'side': None, 'last_value': np.float64(25.879089499877537)}\n"
     ]
    }
   ],
   "source": [
    "# Example: Calculate RSI signals without divergence detection\n",
    "# Assume df is a DataFrame with OHLC data:\n",
    "# columns: [\"Date\", \"Open\", \"High\", \"Low\", \"Close\", \"Volume\"]\n",
    "df = pd.read_csv(\"tests/Historical_data.csv\")\n",
    "\n",
    "# Cleaning and converting the 'Amount' column\n",
    "for label in [\"High\", \"Low\", \"Open\", \"Close\"]:\n",
    "    df[label] = df[label].str.replace('$', '')  # Remove dollar sign\n",
    "    df[label] = df[label].str.replace(',', '.')  # Replace comma with period\n",
    "    df[label] = df[label].astype(float)  # Convert to float\n",
    "rsi_vars = {\n",
    "    \"length\": 14\n",
    "}\n",
    "df, rsi_signals = calculate_indicator_signals(df, \"RSI\", rsi_vars, detect_divergence=False)\n",
    "print(\"RSI Signals:\", rsi_signals)"
   ]
  },
  {
   "cell_type": "code",
   "execution_count": 1,
   "id": "2f888867b22615e0",
   "metadata": {},
   "outputs": [],
   "source": [
    "import pandas as pd\n",
    "\n",
    "df = pd.read_csv(\"tests/Historical_data.csv\")\n",
    "\n",
    "# Cleaning and converting the columns into numerical values\n",
    "for label in [\"High\", \"Low\", \"Open\", \"Close\"]:\n",
    "    df[label] = df[label].str.replace('$', '')  # Remove dollar sign\n",
    "    df[label] = df[label].str.replace(',', '.')  # Replace comma with period\n",
    "    df[label] = df[label].astype(float)  # Convert to float\n",
    "\n",
    "df.to_csv(\"tests/Historical_data_cleaned.csv\", index=False)"
   ]
  }
 ],
 "metadata": {
  "kernelspec": {
   "display_name": "Python 3",
   "language": "python",
   "name": "python3"
  },
  "language_info": {
   "codemirror_mode": {
    "name": "ipython",
    "version": 3
   },
   "file_extension": ".py",
   "mimetype": "text/x-python",
   "name": "python",
   "nbconvert_exporter": "python",
   "pygments_lexer": "ipython3",
   "version": "3.12.7"
  }
 },
 "nbformat": 4,
 "nbformat_minor": 5
}
